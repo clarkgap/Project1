{
 "cells": [
  {
   "cell_type": "code",
   "execution_count": 491,
   "outputs": [],
   "source": [
    "# overhead\n",
    "\n",
    "import logging\n",
    "import math\n",
    "import random\n",
    "import numpy as np\n",
    "import time\n",
    "import torch as t\n",
    "import torch.nn as nn\n",
    "from torch import optim\n",
    "from torch.nn import utils\n",
    "import matplotlib.pyplot as plt\n",
    "import matplotlib.animation as animation\n",
    "\n",
    "logger = logging.getLogger(__name__)"
   ],
   "metadata": {
    "collapsed": false,
    "pycharm": {
     "name": "#%%\n"
    }
   }
  },
  {
   "cell_type": "code",
   "execution_count": 492,
   "outputs": [],
   "source": [
    "# environment parameters\n",
    "\n",
    "FRAME_TIME = 0.1  # time interval\n",
    "GRAVITY_ACCEL = 0.12  # gravity constant\n",
    "BOOST_ACCEL = 0.18  # thrust constant\n",
    "\n",
    "# # the following parameters are not being used in the sample code\n",
    "PLATFORM_WIDTH = 0.25  # landing platform width\n",
    "PLATFORM_HEIGHT = 0.  # landing platform height\n",
    "w1 = [-PLATFORM_WIDTH, PLATFORM_WIDTH]\n",
    "w2 = [0.1*-PLATFORM_WIDTH, 0.1*PLATFORM_WIDTH]\n",
    "h = [PLATFORM_HEIGHT, PLATFORM_HEIGHT]\n",
    "ROTATION_ACCEL = np.radians(20)  # rotation constant"
   ],
   "metadata": {
    "collapsed": false,
    "pycharm": {
     "name": "#%%\n"
    }
   }
  },
  {
   "cell_type": "code",
   "execution_count": 493,
   "outputs": [],
   "source": [
    "# define system dynamics\n",
    "# Notes:\n",
    "# 0. You only need to modify the \"forward\" function\n",
    "# 1. All variables in \"forward\" need to be PyTorch tensors.\n",
    "# 2. All math operations in \"forward\" has to be differentiable, e.g., default PyTorch functions.\n",
    "# 3. Do not use inplace operations, e.g., x += 1. Please see the following section for an example that does not work.\n",
    "\n",
    "class Dynamics(nn.Module):\n",
    "\n",
    "    def __init__(self):\n",
    "        super(Dynamics, self).__init__()\n",
    "\n",
    "    @staticmethod\n",
    "    def forward(state, action):\n",
    "\n",
    "        \"\"\"\n",
    "        action: thrust or no thrust\n",
    "        state[0] = y\n",
    "        state[1] = y_dot\n",
    "        \"\"\"\n",
    "\n",
    "        delta_state_ori = ROTATION_ACCEL* FRAME_TIME*t.tensor([0., 1, 0., 0., 0., 0.])\n",
    "\n",
    "        sin = t.matmul(t.tensor([[0., 0., 0., 0., 0., 0.],\n",
    "                                 [0., 0., 0., 0., 0., 0.],\n",
    "                                 [0., 0., 0., 0., 0., 0.],\n",
    "                                 [-1., 0., 0., 0., 0., 0.],\n",
    "                                 [0., 0., 0., 0., 0., 0.],\n",
    "                                 [0., 0., 0., 0., 0., 0.]]),t.sin(t.transpose(state,0,1)))\n",
    "        cos = t.matmul(t.tensor([[0., 0., 0., 0., 0., 0.],\n",
    "                                 [0., 0., 0., 0., 0., 0.],\n",
    "                                 [0., 0., 0., 0., 0., 0.],\n",
    "                                 [0., 0., 0., 0., 0., 0.],\n",
    "                                 [0., 0., 0., 0., 0., 0.],\n",
    "                                 [1., 0., 0., 0., 0., 0.]]),t.cos(t.transpose(state,0,1)))\n",
    "        cos_sin = cos+sin\n",
    "        cos_sin = t.transpose(cos_sin,0,1)\n",
    "        delta_state_pos = BOOST_ACCEL* FRAME_TIME*t.tensor([0., 0., 0., 1., 0., 1.])*cos_sin # x and y components of acceleration\n",
    "\n",
    "        delta_state_combine = delta_state_ori + delta_state_pos\n",
    "\n",
    "        action_mat = t.tensor([[0., 0.],\n",
    "                         [2., 0.],\n",
    "                         [0., 0.],\n",
    "                         [0., 1.],\n",
    "                         [0., 0.],\n",
    "                         [0., 1.]])\n",
    "\n",
    "        a_a = t.add(t.transpose(t.matmul(action_mat, t.transpose(action,0,1)),0,1) , t.tensor([0., -1., 0., 0., 0., 0.]))# get ori and pos accelerations\n",
    "\n",
    "        delta_state = delta_state_combine*a_a\n",
    "\n",
    "        state_gravity = GRAVITY_ACCEL * FRAME_TIME*t.tensor([0., 0., 0., 0., 0., -1.])\n",
    "        state = state + delta_state + state_gravity\n",
    "\n",
    "        step_mat = t.tensor([[1., FRAME_TIME, 0., 0., 0., 0.],\n",
    "                             [0., 1., 0., 0., 0., 0.],\n",
    "                             [0., 0., 1., FRAME_TIME, 0., 0.],\n",
    "                             [0., 0., 0., 1., 0., 0.],\n",
    "                             [0., 0., 0., 0., 1., FRAME_TIME,],\n",
    "                             [0., 0., 0., 0., 0., 1.]])\n",
    "        state = t.transpose(t.matmul(step_mat, t.transpose(state,0,1)),0,1)\n",
    "\n",
    "        return state"
   ],
   "metadata": {
    "collapsed": false,
    "pycharm": {
     "name": "#%%\n"
    }
   }
  },
  {
   "cell_type": "code",
   "execution_count": 494,
   "outputs": [],
   "source": [
    "# a deterministic controller\n",
    "# Note:\n",
    "# 0. You only need to change the network architecture in \"__init__\"\n",
    "# 1. nn.Sigmoid outputs values from 0 to 1, nn.Tanh from -1 to 1\n",
    "# 2. You have all the freedom to make the network wider (by increasing \"dim_hidden\") or deeper (by adding more lines to nn.Sequential)\n",
    "# 3. Always start with something simple\n",
    "\n",
    "class Controller(nn.Module):\n",
    "\n",
    "    def __init__(self, dim_input, dim_hidden1, dim_hidden2, dim_output):\n",
    "        \"\"\"\n",
    "        dim_input: # of system states\n",
    "        dim_output: # of actions\n",
    "        dim_hidden: up to you\n",
    "        \"\"\"\n",
    "        super(Controller, self).__init__()\n",
    "        self.network = nn.Sequential(\n",
    "            nn.Linear(dim_input, dim_hidden1),\n",
    "            nn.Tanh(),\n",
    "            nn.Linear(dim_hidden1, dim_hidden2),\n",
    "            nn.Tanh(),\n",
    "            nn.Linear(dim_hidden2, dim_output),\n",
    "            nn.Sigmoid()\n",
    "        )\n",
    "\n",
    "    def forward(self, state):\n",
    "        action = self.network(state)\n",
    "        return action"
   ],
   "metadata": {
    "collapsed": false,
    "pycharm": {
     "name": "#%%\n"
    }
   }
  },
  {
   "cell_type": "code",
   "execution_count": 495,
   "outputs": [],
   "source": [
    "# the simulator that rolls out x(1), x(2), ..., x(T)\n",
    "# Note:\n",
    "# 0. Need to change \"initialize_state\" to optimize the controller over a distribution of initial states\n",
    "# 1. self.action_trajectory and self.state_trajectory stores the action and state trajectories along time\n",
    "\n",
    "class Simulation(nn.Module):\n",
    "\n",
    "    def __init__(self, controller, dynamics, T, n):\n",
    "        super(Simulation, self).__init__()\n",
    "        self.T = T\n",
    "        self.state = self.initialize_state(n)\n",
    "        self.controller = controller\n",
    "        self.dynamics = dynamics\n",
    "        self.action_trajectory = []\n",
    "        self.state_trajectory = []\n",
    "\n",
    "    def forward(self, state,n):\n",
    "        self.action_trajectory = []\n",
    "        self.state_trajectory = []\n",
    "        for _ in range(T):\n",
    "            action = self.controller.forward(state)\n",
    "            state = self.dynamics.forward(state, action)\n",
    "            self.action_trajectory.append(action)\n",
    "            self.state_trajectory.append(state)\n",
    "        return self.error(state,n)\n",
    "\n",
    "    @staticmethod\n",
    "    def initialize_state(n):\n",
    "        print('ini',n)\n",
    "        initial = np.zeros((n,6))\n",
    "        for i in range(n):\n",
    "            initial[i] = [0.5*math.pi*(random.random()-0.5), 0.1*math.pi*(random.random()-0.5), # orientation state\n",
    "                     (random.random()-0.5), 0.1*(random.random()-0.5), # horizontal state\n",
    "                     0.5*random.random()+1, -0.1*random.random()]  # vertical state\n",
    "        print('Generate %d initial states of rocket:' % n)\n",
    "        print(initial)\n",
    "        return t.tensor(initial, requires_grad=False).float()\n",
    "    def error(self, state, n):\n",
    "        states = t.square(state).sum(dim=0)*t.tensor([1., 1., 0.01, 1., 1., 1.]) # weight of each state\n",
    "        return states.sum(dim=0)/n"
   ],
   "metadata": {
    "collapsed": false,
    "pycharm": {
     "name": "#%%\n"
    }
   }
  },
  {
   "cell_type": "code",
   "execution_count": 496,
   "outputs": [],
   "source": [
    "# set up the optimizer\n",
    "# Note:\n",
    "# 0. LBFGS is a good choice if you don't have a large batch size (i.e., a lot of initial states to consider simultaneously)\n",
    "# 1. You can also try SGD and other momentum-based methods implemented in PyTorch\n",
    "# 2. You will need to customize \"visualize\"\n",
    "# 3. loss.backward is where the gradient is calculated (d_loss/d_variables)\n",
    "# 4. self.optimizer.step(closure) is where gradient descent is done\n",
    "\n",
    "class Optimize:\n",
    "    def __init__(self, simulation):\n",
    "        self.simulation = simulation\n",
    "        self.parameters = simulation.controller.parameters()\n",
    "        self.optimizer = optim.LBFGS(self.parameters, lr=0.01)\n",
    "\n",
    "    def step(self,n):\n",
    "        def closure():\n",
    "            loss = self.simulation(self.simulation.state,n)\n",
    "            self.optimizer.zero_grad()\n",
    "            loss.backward()\n",
    "            return loss\n",
    "        self.optimizer.step(closure)\n",
    "        return closure()\n",
    "\n",
    "    def train(self, eps, max_epoch, n):\n",
    "        conv_log = []\n",
    "        conv_itr = []\n",
    "        epoch = 0\n",
    "        error = 100\n",
    "        print('Start Training:')\n",
    "        while error > eps and epoch <= max_epoch:\n",
    "            loss = self.step(n)\n",
    "            conv_log.append(loss.item())\n",
    "            conv_itr.append(epoch)\n",
    "            epoch += 1\n",
    "            print('[%d] loss: %.6f' % (epoch, loss))\n",
    "            error = loss.item()\n",
    "        #     cord = self.visualize()\n",
    "        # print('Landing Trajectory:')\n",
    "        # for r in range(N):\n",
    "        #     plt.quiver(cord[:,r, 2], cord[:,r, 4], -0.05*np.sin(cord[:,r, 0]), 0.05*np.cos(cord[:,r, 0]))\n",
    "        #     plt.quiver(cord[-1,r, 2], cord[-1,r, 4], -0.05*np.sin(cord[-1,r, 0]), 0.05*np.cos(cord[-1,r, 0]),color='orange')\n",
    "        #     plt.plot(w1, h, color=\"red\", linewidth=3)\n",
    "        #     plt.plot(w2, h, color=\"green\", linewidth=3)\n",
    "        #     plt.show()\n",
    "        print('Convergence Plot:')\n",
    "        plt.plot(conv_itr, conv_log)\n",
    "        plt.yscale(\"log\")\n",
    "        plt.show()\n",
    "\n",
    "    def visualize(self):\n",
    "        data = np.array([self.simulation.state_trajectory[i].detach().numpy() for i in range(self.simulation.T)])\n",
    "        plt.scatter(data[:,0,2], data[:,0,4],s=5)\n",
    "        plt.plot(w1, h, color=\"red\", linewidth=3)\n",
    "        plt.plot(w2, h, color=\"green\", linewidth=3)\n",
    "        plt.show()\n",
    "        return data"
   ],
   "metadata": {
    "collapsed": false,
    "pycharm": {
     "name": "#%%\n"
    }
   }
  },
  {
   "cell_type": "code",
   "execution_count": 497,
   "outputs": [],
   "source": [
    "class Evaluation:\n",
    "    def __init__(self, simulation):\n",
    "        self.simulation = simulation\n",
    "\n",
    "    def test(self, n):\n",
    "        print('Start Testing:')\n",
    "        loss = self.simulation(self.simulation.state,n)\n",
    "        print('loss: %.6f' % loss)\n",
    "        data = np.array([self.simulation.state_trajectory[i].detach().numpy() for i in range(self.simulation.T)])\n",
    "        print('Landing Trajectory:')\n",
    "        for r in range(n):\n",
    "            plt.quiver(data[:,r, 2], data[:,r, 4], -0.05*np.sin(data[:,r, 0]), 0.05*np.cos(data[:,r, 0]))\n",
    "            plt.quiver(data[-1,r, 2], data[-1,r, 4], -0.05*np.sin(data[-1,r, 0]), 0.05*np.cos(data[-1,r, 0]),color='orange')\n",
    "            plt.plot(w1, h, color=\"red\", linewidth=3)\n",
    "            plt.plot(w2, h, color=\"green\", linewidth=3)\n",
    "            plt.show()\n",
    "            end = data[-1,r,:]\n",
    "            print(np.abs(end))"
   ],
   "metadata": {
    "collapsed": false,
    "pycharm": {
     "name": "#%%\n"
    }
   }
  },
  {
   "cell_type": "code",
   "execution_count": 498,
   "outputs": [
    {
     "name": "stdout",
     "output_type": "stream",
     "text": [
      "ini 100\n",
      "Generate 100 initial states of rocket:\n",
      "[[-5.68509052e-01 -6.83906079e-02  3.19316458e-01 -3.02878235e-02\n",
      "   1.41593090e+00 -7.19579417e-02]\n",
      " [ 3.11883295e-01  2.42519554e-02  2.14780640e-01 -3.35064458e-02\n",
      "   1.25523397e+00 -5.60584842e-02]\n",
      " [ 1.90559954e-02 -3.37378733e-02 -8.13686239e-02  1.30704172e-02\n",
      "   1.16195410e+00 -2.41295317e-03]\n",
      " [-6.13932047e-01 -1.08606991e-01 -4.70771342e-01  2.60081143e-02\n",
      "   1.35787840e+00 -2.40671646e-02]\n",
      " [ 1.95824659e-01 -1.42672804e-01  3.22904487e-01 -9.14522496e-03\n",
      "   1.07068602e+00 -2.61548027e-02]\n",
      " [-4.72141998e-01 -1.48804280e-01 -3.38125548e-01  2.93357110e-02\n",
      "   1.19396444e+00 -6.88184933e-02]\n",
      " [ 6.65936584e-01  1.43173195e-01 -3.18362663e-02  2.60677443e-02\n",
      "   1.35877033e+00 -2.69485921e-02]\n",
      " [ 2.23805832e-01 -9.19249959e-02 -4.25332462e-01 -1.17566605e-02\n",
      "   1.26888094e+00 -3.17927933e-02]\n",
      " [ 7.24123978e-01  8.78887360e-02  2.60306581e-01  3.70800992e-02\n",
      "   1.02057578e+00 -2.11715366e-02]\n",
      " [-4.33248899e-02  9.79774423e-02 -3.53851665e-01  2.67023009e-02\n",
      "   1.26810228e+00 -9.43460840e-02]\n",
      " [-2.92371364e-01  2.86000681e-02  1.17926815e-01 -9.96995375e-04\n",
      "   1.40635182e+00 -6.54170450e-02]\n",
      " [-4.84438941e-01  7.07218218e-02 -1.83982769e-01 -4.95191606e-02\n",
      "   1.29895678e+00 -6.66125426e-02]\n",
      " [-5.50014837e-01 -1.08458434e-01  4.06975401e-01  2.40037856e-02\n",
      "   1.14645064e+00 -8.89360445e-02]\n",
      " [-7.50006446e-01  3.47549911e-02  2.06307448e-01  7.77916129e-03\n",
      "   1.10673845e+00 -8.16876564e-02]\n",
      " [-3.90075393e-02  1.27186656e-02  1.44107139e-01  4.91688146e-02\n",
      "   1.18016743e+00 -2.69020848e-02]\n",
      " [ 6.94035112e-01 -1.97404405e-02 -4.53857298e-01  7.03771606e-03\n",
      "   1.44761574e+00 -3.07302561e-02]\n",
      " [ 4.31554594e-02  1.04208841e-01 -1.29337949e-01  3.02902404e-02\n",
      "   1.36121785e+00 -1.00629804e-02]\n",
      " [-7.70812146e-01  1.17223919e-01 -1.17375609e-01 -1.27823885e-02\n",
      "   1.19714806e+00 -8.40640996e-02]\n",
      " [ 2.88630259e-01 -6.83028673e-03 -4.26156230e-01 -1.76498035e-02\n",
      "   1.43461658e+00 -8.02760608e-03]\n",
      " [-3.03780566e-02  6.71665215e-02  1.10642420e-01  6.57413858e-03\n",
      "   1.44494927e+00 -2.92992754e-02]\n",
      " [-3.21471276e-01  1.41988284e-01 -3.76698283e-01  3.74090611e-02\n",
      "   1.43967549e+00 -8.43667268e-02]\n",
      " [ 2.99651188e-01  1.05038180e-01  4.13425689e-01 -1.79585530e-02\n",
      "   1.42827741e+00 -4.08316077e-02]\n",
      " [ 5.71902445e-01 -9.13880375e-02  6.56352187e-02 -1.36624832e-02\n",
      "   1.36270494e+00 -5.94248948e-03]\n",
      " [ 6.70474143e-01 -1.31732006e-01  4.45510235e-01  1.63034359e-02\n",
      "   1.13909492e+00 -8.82883814e-02]\n",
      " [ 1.53407723e-01  6.56343109e-02  4.93559850e-01  2.92301731e-02\n",
      "   1.22960408e+00 -6.67298674e-02]\n",
      " [ 4.32090091e-01 -1.02556557e-01 -2.19548770e-01 -2.08026240e-02\n",
      "   1.25717652e+00 -3.99144930e-02]\n",
      " [-3.67823209e-01  3.03221198e-02  2.22763634e-02 -4.07620048e-02\n",
      "   1.11013705e+00 -9.55001514e-02]\n",
      " [-3.03748385e-01 -8.27347000e-02 -2.56161123e-01  3.38403981e-02\n",
      "   1.25464156e+00 -5.81230652e-03]\n",
      " [ 7.48000910e-01 -3.97633392e-02 -2.85680733e-01  1.38785705e-02\n",
      "   1.49494129e+00 -9.04642151e-02]\n",
      " [ 4.57545244e-01  7.83774209e-02 -1.23963300e-01 -1.63381813e-02\n",
      "   1.45405931e+00 -3.40192484e-02]\n",
      " [-5.44284153e-01 -1.45300270e-01  2.87725167e-01 -1.10199380e-02\n",
      "   1.20198171e+00 -7.20420710e-02]\n",
      " [-2.73012283e-01 -1.27040993e-01  2.23440947e-01  4.35554778e-02\n",
      "   1.34347566e+00 -4.09267797e-02]\n",
      " [ 4.92161715e-01  9.07192784e-02  4.25772529e-01  2.60686445e-02\n",
      "   1.38496296e+00 -4.80316267e-02]\n",
      " [-6.78258488e-01 -4.19993984e-02  7.40341123e-02  1.06084318e-02\n",
      "   1.37285913e+00 -5.89754916e-02]\n",
      " [ 4.05213255e-02 -8.97696766e-02  4.81333975e-01  4.22461208e-02\n",
      "   1.12827651e+00 -2.39949139e-02]\n",
      " [ 1.92648356e-01 -9.71075161e-02  2.70285269e-01 -4.43233083e-02\n",
      "   1.27022551e+00 -1.94282034e-02]\n",
      " [-6.26870424e-01 -1.48998715e-01 -2.30504850e-01 -2.62137382e-02\n",
      "   1.15841575e+00 -3.83525369e-02]\n",
      " [ 4.62895590e-01  4.43718680e-02 -4.53068780e-01 -2.77185164e-02\n",
      "   1.15668762e+00 -7.64683628e-02]\n",
      " [ 5.73492477e-01 -6.28603036e-02 -3.01660621e-01 -2.90758602e-02\n",
      "   1.40357447e+00 -3.40834335e-02]\n",
      " [-7.03693416e-02  1.49604193e-02 -9.65369959e-02  8.19445815e-03\n",
      "   1.26098922e+00 -9.62140149e-02]\n",
      " [ 4.03727749e-01  6.39244192e-02  1.89629115e-01  3.22540852e-03\n",
      "   1.49124289e+00 -3.46353266e-02]\n",
      " [ 7.22992567e-01 -5.39383413e-02 -3.31114820e-02  1.86084402e-02\n",
      "   1.42170984e+00 -9.76291320e-02]\n",
      " [ 8.70630376e-02  4.99388784e-02  3.05069051e-01 -3.46867771e-02\n",
      "   1.41532471e+00 -7.97740560e-03]\n",
      " [-7.41039690e-01  1.05112873e-01  3.29368626e-01  1.67792325e-02\n",
      "   1.39736832e+00 -9.02599212e-02]\n",
      " [ 6.62297726e-03 -1.30874869e-01 -1.16055210e-01  1.82695261e-02\n",
      "   1.31917056e+00 -4.89550420e-02]\n",
      " [-7.84663119e-01  8.78077675e-02  2.11159783e-01  4.94777622e-02\n",
      "   1.28418715e+00 -4.04757022e-02]\n",
      " [-2.18765043e-02  1.19544355e-01 -1.81044511e-01 -3.50079821e-02\n",
      "   1.07867336e+00 -7.73035116e-02]\n",
      " [ 4.84588904e-01 -2.13804143e-02 -5.71470858e-02 -2.53720464e-02\n",
      "   1.25370134e+00 -4.24833834e-02]\n",
      " [ 1.38966193e-01  1.24329974e-01  4.01139155e-01 -2.59078834e-02\n",
      "   1.02493149e+00 -7.24680006e-02]\n",
      " [-3.91382363e-01  8.45499081e-02  4.29322759e-01  1.11453807e-02\n",
      "   1.01132290e+00 -8.01718000e-02]\n",
      " [-5.66623378e-01  3.75897211e-02  4.47217841e-01 -6.10505190e-03\n",
      "   1.31291596e+00 -4.09245112e-02]\n",
      " [-7.82197685e-01 -4.50376034e-02 -3.91359129e-01  1.88792386e-02\n",
      "   1.28737981e+00 -4.41332821e-02]\n",
      " [ 2.17130407e-01 -2.98210018e-02 -3.65781244e-01 -4.74255047e-02\n",
      "   1.24034369e+00 -5.54854496e-02]\n",
      " [-7.62745761e-01 -3.74655568e-02 -4.51810097e-01  3.05774111e-02\n",
      "   1.11685668e+00 -6.75895607e-02]\n",
      " [-5.09603398e-01  9.26205952e-02  3.63980767e-01 -7.89118663e-04\n",
      "   1.38904252e+00 -6.96266231e-02]\n",
      " [ 1.41598722e-02 -1.43069875e-02 -7.19972348e-02  8.36851869e-03\n",
      "   1.23188058e+00 -4.00777311e-02]\n",
      " [ 5.87428796e-01  7.94759889e-03 -3.74334041e-01  3.57656527e-02\n",
      "   1.16135243e+00 -2.63148943e-02]\n",
      " [-7.76869992e-01 -1.37098648e-01 -3.26544808e-01 -4.64847342e-02\n",
      "   1.37435139e+00 -1.62561465e-02]\n",
      " [ 1.24128924e-01 -3.78933187e-02 -2.46499378e-01  2.47515275e-02\n",
      "   1.38525330e+00 -9.28362230e-02]\n",
      " [ 1.22762303e-01 -1.41875652e-01 -4.46996168e-01  2.82618018e-02\n",
      "   1.30601308e+00 -8.90463652e-02]\n",
      " [ 1.11473266e-01 -5.47102224e-02  2.78332792e-01 -4.59605574e-03\n",
      "   1.40944564e+00 -2.34047744e-02]\n",
      " [ 3.96246901e-01  1.46050708e-02  3.71370228e-02  2.62054861e-02\n",
      "   1.47435593e+00 -5.89756887e-02]\n",
      " [-4.13259171e-01  1.12462578e-01  1.55443797e-01 -2.69097697e-02\n",
      "   1.31426096e+00 -1.83223478e-02]\n",
      " [ 6.66029866e-01 -2.22141437e-02  1.15387062e-01 -3.41526319e-02\n",
      "   1.02732601e+00 -3.89000838e-02]\n",
      " [ 2.21061031e-01 -3.86051721e-02 -2.30914337e-01  3.75056874e-02\n",
      "   1.31192488e+00 -6.79890455e-02]\n",
      " [-5.46790233e-01 -7.51493361e-02  3.98224132e-01 -3.28525529e-02\n",
      "   1.19675370e+00 -1.38807111e-02]\n",
      " [-5.32704782e-01  6.87002808e-02 -3.97894705e-01  3.11488019e-04\n",
      "   1.39132618e+00 -8.75028380e-02]\n",
      " [-1.14112386e-01 -7.56518743e-02  4.44569860e-01  3.44491788e-03\n",
      "   1.03602543e+00 -8.15429018e-02]\n",
      " [-5.08482095e-01  1.53518114e-02 -1.55103769e-01  3.00865516e-02\n",
      "   1.03088198e+00 -6.85412605e-02]\n",
      " [ 4.06454551e-01  1.03528407e-01  4.25039896e-01  2.22452671e-03\n",
      "   1.47155047e+00 -7.35816853e-02]\n",
      " [ 5.67687833e-01 -6.35855235e-02 -1.08076499e-01  1.98481079e-02\n",
      "   1.15881399e+00 -6.22971517e-02]\n",
      " [-8.12041412e-02 -1.55924220e-01  4.42338652e-01 -4.45907624e-02\n",
      "   1.19632058e+00 -8.01387141e-02]\n",
      " [ 1.35914766e-01  7.76164973e-02  3.23441869e-01  3.94634510e-02\n",
      "   1.49690934e+00 -2.02121931e-02]\n",
      " [-3.21357873e-01 -9.17126431e-02 -1.12686020e-01  2.11692022e-02\n",
      "   1.45835953e+00 -2.15387059e-02]\n",
      " [ 2.79413366e-01 -6.75566549e-02  4.33181909e-01 -2.53994277e-02\n",
      "   1.33287521e+00 -6.55715305e-02]\n",
      " [-2.70396014e-01  1.19300559e-01 -6.12116467e-02 -3.63145515e-02\n",
      "   1.03478073e+00 -8.94905295e-03]\n",
      " [-2.33080586e-01 -8.99252502e-03  2.35481487e-01  2.95377960e-02\n",
      "   1.28057780e+00 -8.94495552e-02]\n",
      " [ 2.67675123e-02  1.23374284e-01 -2.00484138e-01  4.11365562e-02\n",
      "   1.40404595e+00 -7.68535821e-02]\n",
      " [ 7.43701626e-01 -7.27230952e-02  3.79440425e-01  3.49480987e-02\n",
      "   1.17420612e+00 -4.57095585e-02]\n",
      " [-1.44074519e-01  7.49534381e-03 -1.58671102e-01  7.93272337e-04\n",
      "   1.32994410e+00 -6.03132075e-02]\n",
      " [-1.23023892e-02 -3.14541061e-03  3.89386452e-01  3.36062827e-02\n",
      "   1.17314283e+00 -8.14553171e-02]\n",
      " [-6.36525860e-01 -1.08304575e-01  1.49715007e-01  9.09119424e-03\n",
      "   1.04877189e+00 -3.26684839e-02]\n",
      " [-2.97141670e-01  1.15957406e-01  3.72753190e-01  3.13874053e-02\n",
      "   1.25332986e+00 -9.99006075e-02]\n",
      " [-4.15223475e-01  7.60353074e-02 -4.38873120e-01 -3.12691729e-02\n",
      "   1.43067754e+00 -4.00642262e-02]\n",
      " [ 7.69023662e-01 -8.83315999e-02 -1.93693540e-01 -4.44259863e-02\n",
      "   1.24736782e+00 -3.70792233e-02]\n",
      " [ 7.83780051e-02  1.39015304e-01  1.65100887e-01 -1.88531713e-02\n",
      "   1.21693067e+00 -6.12898168e-02]\n",
      " [ 2.63363698e-01 -8.35612828e-02  1.09489757e-01  3.83369789e-02\n",
      "   1.00090816e+00 -6.80032420e-02]\n",
      " [-3.95975998e-01  1.49317761e-01 -4.13146322e-01  1.96555215e-02\n",
      "   1.37555110e+00 -6.34468141e-02]\n",
      " [-3.87266645e-01 -5.46345482e-02  2.83659231e-01 -2.60611412e-03\n",
      "   1.13348081e+00 -2.57416103e-02]\n",
      " [-2.58981120e-01  7.00142760e-02 -3.29679263e-01  3.99941531e-02\n",
      "   1.17578154e+00 -7.52477258e-02]\n",
      " [ 1.53019965e-01  3.42659493e-02  4.48655856e-01  2.45953071e-02\n",
      "   1.37315093e+00 -4.57811659e-02]\n",
      " [-7.71452141e-01 -4.63527252e-02  2.67868293e-01  2.88358153e-02\n",
      "   1.45071166e+00 -2.40404391e-02]\n",
      " [-2.31001377e-01 -9.97181048e-02  2.49033006e-01  1.49913710e-02\n",
      "   1.01455771e+00 -2.80100073e-02]\n",
      " [ 1.72203844e-01  1.04686938e-01  3.14853238e-01  2.95454596e-03\n",
      "   1.19450272e+00 -8.87059299e-02]\n",
      " [ 2.47265346e-01  1.56736230e-01 -2.84680947e-01  3.29298631e-02\n",
      "   1.10994928e+00 -7.46452961e-02]\n",
      " [ 5.45566535e-02 -7.62948176e-03  1.12568819e-01 -8.80169421e-03\n",
      "   1.20676349e+00 -9.67389132e-02]\n",
      " [-2.40386799e-01  7.17092058e-02 -4.53617512e-01  2.70212571e-02\n",
      "   1.49219517e+00 -7.98026195e-02]\n",
      " [ 1.77581971e-01 -1.22915143e-01  4.40613902e-01  2.72582878e-02\n",
      "   1.48499647e+00 -4.94692986e-02]\n",
      " [-1.08993192e-01  1.53116403e-01  2.79099534e-01  4.67567062e-02\n",
      "   1.43342296e+00 -7.61144065e-02]\n",
      " [ 4.62935846e-01  5.97935351e-02  2.28708125e-01 -4.43966419e-02\n",
      "   1.26078906e+00 -7.24259736e-03]]\n",
      "Start Training:\n",
      "[1] loss: 4.481497\n",
      "[2] loss: 2.831007\n",
      "[3] loss: 1.860789\n",
      "[4] loss: 1.156701\n",
      "[5] loss: 0.796876\n",
      "[6] loss: 0.584675\n",
      "[7] loss: 0.442909\n",
      "[8] loss: 0.337191\n",
      "[9] loss: 0.245723\n",
      "[10] loss: 0.170119\n",
      "[11] loss: 0.115003\n",
      "[12] loss: 0.081371\n",
      "[13] loss: 0.059160\n",
      "[14] loss: 0.043433\n",
      "[15] loss: 0.032981\n",
      "[16] loss: 0.025626\n",
      "[17] loss: 0.020098\n",
      "[18] loss: 0.015096\n",
      "[19] loss: 0.010675\n",
      "[20] loss: 0.007983\n",
      "[21] loss: 0.006229\n",
      "[22] loss: 0.004975\n",
      "[23] loss: 0.004056\n",
      "[24] loss: 0.003369\n",
      "[25] loss: 0.002831\n",
      "[26] loss: 0.002410\n",
      "[27] loss: 0.002076\n",
      "[28] loss: 0.001814\n",
      "[29] loss: 0.001609\n",
      "[30] loss: 0.001444\n",
      "[31] loss: 0.001310\n",
      "[32] loss: 0.001197\n",
      "[33] loss: 0.001105\n",
      "[34] loss: 0.001031\n",
      "[35] loss: 0.000965\n",
      "[36] loss: 0.000904\n",
      "[37] loss: 0.000842\n",
      "[38] loss: 0.000767\n",
      "[39] loss: 0.000681\n",
      "[40] loss: 0.000616\n",
      "[41] loss: 0.000526\n",
      "[42] loss: 0.000464\n",
      "[43] loss: 0.000397\n",
      "[44] loss: 0.000265\n",
      "[45] loss: 0.000194\n",
      "[46] loss: 0.000168\n",
      "[47] loss: 0.000146\n",
      "[48] loss: 0.000128\n",
      "[49] loss: 0.000113\n",
      "[50] loss: 0.000100\n",
      "[51] loss: 0.000088\n",
      "[52] loss: 0.000076\n",
      "[53] loss: 0.000066\n",
      "[54] loss: 0.000058\n",
      "[55] loss: 0.000054\n",
      "[56] loss: 0.000051\n",
      "[57] loss: 0.000048\n",
      "[58] loss: 0.000046\n",
      "[59] loss: 0.000044\n",
      "[60] loss: 0.000043\n",
      "[61] loss: 0.000041\n",
      "[62] loss: 0.000038\n",
      "[63] loss: 0.000036\n",
      "[64] loss: 0.000034\n",
      "[65] loss: 0.000032\n",
      "[66] loss: 0.000030\n",
      "[67] loss: 0.000029\n",
      "[68] loss: 0.000028\n",
      "[69] loss: 0.000027\n",
      "[70] loss: 0.000025\n",
      "[71] loss: 0.000024\n",
      "[72] loss: 0.000024\n",
      "[73] loss: 0.000023\n",
      "[74] loss: 0.000023\n",
      "[75] loss: 0.000022\n",
      "[76] loss: 0.000022\n",
      "[77] loss: 0.000021\n",
      "[78] loss: 0.000021\n",
      "[79] loss: 0.000020\n",
      "[80] loss: 0.000020\n",
      "[81] loss: 0.000019\n",
      "[82] loss: 0.000018\n",
      "[83] loss: 0.000018\n",
      "[84] loss: 0.000018\n",
      "[85] loss: 0.000017\n",
      "[86] loss: 0.000017\n",
      "[87] loss: 0.000016\n",
      "[88] loss: 0.000016\n",
      "[89] loss: 0.000016\n",
      "[90] loss: 0.000015\n",
      "[91] loss: 0.000015\n",
      "[92] loss: 0.000015\n",
      "[93] loss: 0.000014\n",
      "[94] loss: 0.000014\n",
      "[95] loss: 0.000014\n",
      "[96] loss: 0.000013\n",
      "[97] loss: 0.000013\n",
      "[98] loss: 0.000013\n",
      "[99] loss: 0.000012\n",
      "[100] loss: 0.000012\n",
      "[101] loss: 0.000012\n",
      "[102] loss: 0.000012\n",
      "[103] loss: 0.000011\n",
      "[104] loss: 0.000011\n",
      "[105] loss: 0.000011\n",
      "[106] loss: 0.000011\n",
      "[107] loss: 0.000011\n",
      "[108] loss: 0.000011\n",
      "[109] loss: 0.000011\n",
      "[110] loss: 0.000011\n",
      "[111] loss: 0.000011\n",
      "[112] loss: 0.000011\n",
      "[113] loss: 0.000011\n",
      "[114] loss: 0.000011\n",
      "[115] loss: 0.000011\n",
      "[116] loss: 0.000011\n",
      "[117] loss: 0.000011\n",
      "[118] loss: 0.000011\n",
      "[119] loss: 0.000011\n",
      "[120] loss: 0.000011\n",
      "[121] loss: 0.000011\n",
      "[122] loss: 0.000011\n",
      "[123] loss: 0.000011\n",
      "[124] loss: 0.000011\n",
      "[125] loss: 0.000011\n",
      "[126] loss: 0.000011\n",
      "[127] loss: 0.000011\n",
      "[128] loss: 0.000011\n",
      "[129] loss: 0.000011\n",
      "[130] loss: 0.000011\n",
      "[131] loss: 0.000011\n",
      "[132] loss: 0.000011\n",
      "[133] loss: 0.000011\n",
      "[134] loss: 0.000011\n",
      "[135] loss: 0.000011\n",
      "[136] loss: 0.000011\n",
      "[137] loss: 0.000011\n",
      "[138] loss: 0.000011\n",
      "[139] loss: 0.000011\n",
      "[140] loss: 0.000011\n",
      "[141] loss: 0.000011\n",
      "[142] loss: 0.000011\n",
      "[143] loss: 0.000011\n",
      "[144] loss: 0.000011\n",
      "[145] loss: 0.000011\n",
      "[146] loss: 0.000011\n",
      "[147] loss: 0.000011\n",
      "[148] loss: 0.000011\n",
      "[149] loss: 0.000011\n",
      "[150] loss: 0.000011\n",
      "[151] loss: 0.000011\n",
      "Convergence Plot:\n"
     ]
    },
    {
     "data": {
      "text/plain": "<Figure size 432x288 with 1 Axes>",
      "image/png": "[encoded data removed]"
     },
     "metadata": {
      "needs_background": "light"
     },
     "output_type": "display_data"
    }
   ],
   "source": [
    "# Now it's time to run the code!\n",
    "\n",
    "T = 100  # number of time steps\n",
    "N = 100  # number of initial states\n",
    "err = 0.001 # acceptable_error\n",
    "itr = 150 # max_iteration\n",
    "dim_input = 6  # state space dimensions\n",
    "dim_hidden1 = 12  # latent dimensions\n",
    "dim_hidden2 = 4  # latent dimensions\n",
    "dim_output = 2  # action space dimensions\n",
    "d = Dynamics()  # define dynamics\n",
    "c = Controller(dim_input, dim_hidden1, dim_hidden2, dim_output)  # define controller\n",
    "s = Simulation(c, d, T, N)  # define simulation\n",
    "o = Optimize(s)  # define optimizer\n",
    "o.train(err**2,itr,N)  # solve the optimization problem\n",
    "\n",
    "path = './Landing_Model.pth' # save model\n",
    "t.save(c.state_dict(),path)"
   ],
   "metadata": {
    "collapsed": false,
    "pycharm": {
     "name": "#%%\n"
    }
   }
  },
  {
   "cell_type": "code",
   "execution_count": 499,
   "outputs": [
    {
     "name": "stdout",
     "output_type": "stream",
     "text": [
      "ini 10\n",
      "Generate 10 initial states of rocket:\n",
      "[[-5.82844280e-01  6.76618441e-02 -2.31313191e-01  4.02975000e-02\n",
      "   1.43296928e+00 -5.07770068e-02]\n",
      " [-6.37775961e-01 -9.09237718e-02 -6.30059414e-03 -6.50488160e-04\n",
      "   1.05106443e+00 -1.87501758e-02]\n",
      " [-4.74051021e-02  6.14653952e-02  5.90102388e-02  3.67121599e-02\n",
      "   1.29006065e+00 -4.24112963e-02]\n",
      " [-1.33570751e-01  5.82636401e-02 -3.94239830e-01  4.33142810e-02\n",
      "   1.17253198e+00 -3.88255365e-02]\n",
      " [ 6.54246974e-01 -9.48340370e-03 -1.28377394e-01  2.15363283e-02\n",
      "   1.12013187e+00 -5.74244790e-02]\n",
      " [ 7.01499544e-01 -1.56958581e-01 -4.05664691e-01  4.70357145e-02\n",
      "   1.22654566e+00 -2.42394412e-02]\n",
      " [-6.55657669e-01  3.73855779e-02  1.46136559e-01 -3.62378828e-02\n",
      "   1.26876365e+00 -5.51003925e-02]\n",
      " [ 1.64110999e-01  1.32736638e-01 -1.35012108e-01  1.78294156e-02\n",
      "   1.37231903e+00 -7.64465507e-02]\n",
      " [-1.17215949e-01  7.47363022e-03  4.64627079e-01 -8.32409723e-03\n",
      "   1.21724180e+00 -6.56349828e-02]\n",
      " [ 5.88383047e-01 -1.32928670e-01 -3.21350101e-01  1.95194399e-02\n",
      "   1.05458641e+00 -2.44373550e-02]]\n",
      "Start Testing:\n",
      "loss: 0.000008\n",
      "Landing Trajectory:\n"
     ]
    },
    {
     "data": {
      "text/plain": "<Figure size 432x288 with 1 Axes>",
      "image/png": "[encoded data removed]"
     },
     "metadata": {
      "needs_background": "light"
     },
     "output_type": "display_data"
    },
    {
     "name": "stdout",
     "output_type": "stream",
     "text": [
      "[2.42831011e-04 1.37218938e-03 1.33503769e-02 3.15994606e-04\n",
      " 2.67306532e-05 1.06706284e-04]\n"
     ]
    },
    {
     "data": {
      "text/plain": "<Figure size 432x288 with 1 Axes>",
      "image/png": "[encoded data removed]"
     },
     "metadata": {
      "needs_background": "light"
     },
     "output_type": "display_data"
    },
    {
     "name": "stdout",
     "output_type": "stream",
     "text": [
      "[0.00158445 0.00090471 0.02271278 0.00017171 0.0003449  0.00057324]\n"
     ]
    },
    {
     "data": {
      "text/plain": "<Figure size 432x288 with 1 Axes>",
      "image/png": "[encoded data removed]"
     },
     "metadata": {
      "needs_background": "light"
     },
     "output_type": "display_data"
    },
    {
     "name": "stdout",
     "output_type": "stream",
     "text": [
      "[0.00081931 0.00020293 0.01396341 0.00024628 0.00021322 0.00027172]\n"
     ]
    },
    {
     "data": {
      "text/plain": "<Figure size 432x288 with 1 Axes>",
      "image/png": "[encoded data removed]"
     },
     "metadata": {
      "needs_background": "light"
     },
     "output_type": "display_data"
    },
    {
     "name": "stdout",
     "output_type": "stream",
     "text": [
      "[0.00027621 0.00064251 0.01398265 0.00054486 0.00037957 0.00049694]\n"
     ]
    },
    {
     "data": {
      "text/plain": "<Figure size 432x288 with 1 Axes>",
      "image/png": "[encoded data removed]"
     },
     "metadata": {
      "needs_background": "light"
     },
     "output_type": "display_data"
    },
    {
     "name": "stdout",
     "output_type": "stream",
     "text": [
      "[0.00045635 0.00089563 0.04472357 0.00157392 0.00021482 0.00046807]\n"
     ]
    },
    {
     "data": {
      "text/plain": "<Figure size 432x288 with 1 Axes>",
      "image/png": "[encoded data removed]"
     },
     "metadata": {
      "needs_background": "light"
     },
     "output_type": "display_data"
    },
    {
     "name": "stdout",
     "output_type": "stream",
     "text": [
      "[0.00100241 0.00111313 0.02524508 0.00023532 0.00036254 0.0015397 ]\n"
     ]
    },
    {
     "data": {
      "text/plain": "<Figure size 432x288 with 1 Axes>",
      "image/png": "[encoded data removed]"
     },
     "metadata": {
      "needs_background": "light"
     },
     "output_type": "display_data"
    },
    {
     "name": "stdout",
     "output_type": "stream",
     "text": [
      "[0.00105016 0.00099949 0.00155945 0.00013613 0.00030944 0.00083265]\n"
     ]
    },
    {
     "data": {
      "text/plain": "<Figure size 432x288 with 1 Axes>",
      "image/png": "[encoded data removed]"
     },
     "metadata": {
      "needs_background": "light"
     },
     "output_type": "display_data"
    },
    {
     "name": "stdout",
     "output_type": "stream",
     "text": [
      "[6.5723713e-04 1.6212719e-04 2.3107389e-02 5.6254707e-04 8.1593847e-05\n",
      " 8.1798062e-06]\n"
     ]
    },
    {
     "data": {
      "text/plain": "<Figure size 432x288 with 1 Axes>",
      "image/png": "[encoded data removed]"
     },
     "metadata": {
      "needs_background": "light"
     },
     "output_type": "display_data"
    },
    {
     "name": "stdout",
     "output_type": "stream",
     "text": [
      "[0.00044218 0.00118372 0.00376359 0.00051769 0.00033055 0.00045778]\n"
     ]
    },
    {
     "data": {
      "text/plain": "<Figure size 432x288 with 1 Axes>",
      "image/png": "[encoded data removed]"
     },
     "metadata": {
      "needs_background": "light"
     },
     "output_type": "display_data"
    },
    {
     "name": "stdout",
     "output_type": "stream",
     "text": [
      "[2.8228373e-03 4.2042631e-04 2.2123449e-02 1.4172763e-03 1.3289592e-05\n",
      " 3.9633457e-04]\n"
     ]
    }
   ],
   "source": [
    "# Test the control model by some new samples:\n",
    "\n",
    "N_eval = 10 # number of initial states for testing\n",
    "d_eval = Dynamics()  # define dynamics\n",
    "model_eval =  Controller(dim_input, dim_hidden1, dim_hidden2, dim_output) # define controller\n",
    "\n",
    "path = './Landing_Model.pth' # load model\n",
    "model_eval.load_state_dict(t.load(path))\n",
    "model_eval.eval()\n",
    "\n",
    "s_eval = Simulation(model_eval, d_eval, T, N_eval )\n",
    "eva = Evaluation(s_eval)  # initial evaluation simulator\n",
    "eva.test(N_eval) # Test"
   ],
   "metadata": {
    "collapsed": false,
    "pycharm": {
     "name": "#%%\n"
    }
   }
  }
 ],
 "metadata": {
  "kernelspec": {
   "display_name": "Python 3",
   "language": "python",
   "name": "python3"
  },
  "language_info": {
   "codemirror_mode": {
    "name": "ipython",
    "version": 2
   },
   "file_extension": ".py",
   "mimetype": "text/x-python",
   "name": "python",
   "nbconvert_exporter": "python",
   "pygments_lexer": "ipython2",
   "version": "2.7.6"
  }
 },
 "nbformat": 4,
 "nbformat_minor": 0
}