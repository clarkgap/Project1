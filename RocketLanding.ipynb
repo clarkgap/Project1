{
 "cells": [
  {
   "cell_type": "code",
   "execution_count": 41,
   "outputs": [],
   "source": [
    "# overhead\n",
    "\n",
    "import logging\n",
    "import math\n",
    "import random\n",
    "import numpy as np\n",
    "import time\n",
    "import torch as t\n",
    "import torch.nn as nn\n",
    "from torch import optim\n",
    "from torch.nn import utils\n",
    "import matplotlib.pyplot as plt\n",
    "import matplotlib.animation as animation\n",
    "\n",
    "logger = logging.getLogger(__name__)"
   ],
   "metadata": {
    "collapsed": false,
    "pycharm": {
     "name": "#%%\n"
    }
   }
  },
  {
   "cell_type": "code",
   "execution_count": 42,
   "outputs": [],
   "source": [
    "# environment parameters\n",
    "\n",
    "FRAME_TIME = 0.1  # time interval\n",
    "GRAVITY_ACCEL = 0.12  # gravity constant\n",
    "BOOST_ACCEL = 0.18  # thrust constant\n",
    "\n",
    "# # the following parameters are not being used in the sample code\n",
    "# PLATFORM_WIDTH = 0.25  # landing platform width\n",
    "# PLATFORM_HEIGHT = 0.06  # landing platform height\n",
    "ROTATION_ACCEL = np.radians(20)  # rotation constant"
   ],
   "metadata": {
    "collapsed": false,
    "pycharm": {
     "name": "#%%\n"
    }
   }
  },
  {
   "cell_type": "code",
   "execution_count": 43,
   "outputs": [],
   "source": [
    "# define system dynamics\n",
    "# Notes:\n",
    "# 0. You only need to modify the \"forward\" function\n",
    "# 1. All variables in \"forward\" need to be PyTorch tensors.\n",
    "# 2. All math operations in \"forward\" has to be differentiable, e.g., default PyTorch functions.\n",
    "# 3. Do not use inplace operations, e.g., x += 1. Please see the following section for an example that does not work.\n",
    "\n",
    "class Dynamics(nn.Module):\n",
    "\n",
    "    def __init__(self):\n",
    "        super(Dynamics, self).__init__()\n",
    "\n",
    "    @staticmethod\n",
    "    def forward(state, action):\n",
    "\n",
    "        \"\"\"\n",
    "        action: thrust or no thrust\n",
    "        state[0] = y\n",
    "        state[1] = y_dot\n",
    "        \"\"\"\n",
    "\n",
    "        delta_state_ori = ROTATION_ACCEL* FRAME_TIME*t.tensor([0., 1, 0., 0., 0., 0.])\n",
    "\n",
    "        sin = t.matmul(t.tensor([[0., 0., 0., 0., 0., 0.],\n",
    "                                 [0., 0., 0., 0., 0., 0.],\n",
    "                                 [0., 0., 0., 0., 0., 0.],\n",
    "                                 [-1., 0., 0., 0., 0., 0.],\n",
    "                                 [0., 0., 0., 0., 0., 0.],\n",
    "                                 [0., 0., 0., 0., 0., 0.]]),t.sin(state))\n",
    "        cos = t.matmul(t.tensor([[0., 0., 0., 0., 0., 0.],\n",
    "                                 [0., 0., 0., 0., 0., 0.],\n",
    "                                 [0., 0., 0., 0., 0., 0.],\n",
    "                                 [0., 0., 0., 0., 0., 0.],\n",
    "                                 [0., 0., 0., 0., 0., 0.],\n",
    "                                 [1., 0., 0., 0., 0., 0.]]),t.cos(state))\n",
    "        cos_sin = cos+sin\n",
    "        delta_state_pos = BOOST_ACCEL* FRAME_TIME*t.tensor([0., 0., 0., 1., 0., 1.])*cos_sin # x and y components of acceleration\n",
    "\n",
    "        delta_state_combine = delta_state_ori + delta_state_pos\n",
    "\n",
    "        action_mat = t.tensor([[0., 0.],\n",
    "                         [2., 0.],\n",
    "                         [0., 0.],\n",
    "                         [0., 1.],\n",
    "                         [0., 0.],\n",
    "                         [0., 1.]])\n",
    "        a_a = t.matmul(action_mat, action) + t.tensor([0., -1., 0., 0., 0., 0.]) # get ori and pos accelerations\n",
    "\n",
    "        delta_state = delta_state_combine*a_a\n",
    "\n",
    "        state_gravity = GRAVITY_ACCEL * FRAME_TIME*t.tensor([0., 0., 0., 0., 0., -1.])\n",
    "        state = state + delta_state + state_gravity\n",
    "\n",
    "        step_mat = t.tensor([[1., FRAME_TIME, 0., 0., 0., 0.],\n",
    "                             [0., 1., 0., 0., 0., 0.],\n",
    "                             [0., 0., 1., FRAME_TIME, 0., 0.],\n",
    "                             [0., 0., 0., 1., 0., 0.],\n",
    "                             [0., 0., 0., 0., 1., FRAME_TIME,],\n",
    "                             [0., 0., 0., 0., 0., 1.]])\n",
    "        state = t.matmul(step_mat, state)\n",
    "\n",
    "        return state"
   ],
   "metadata": {
    "collapsed": false,
    "pycharm": {
     "name": "#%%\n"
    }
   }
  },
  {
   "cell_type": "code",
   "execution_count": 44,
   "outputs": [],
   "source": [
    "# Demonstrate the inplace operation issue\n",
    "\n",
    "# class Dynamics(nn.Module):\n",
    "#\n",
    "#     def __init__(self):\n",
    "#         super(Dynamics, self).__init__()\n",
    "#\n",
    "#     @staticmethod\n",
    "#     def forward(state, action):\n",
    "#\n",
    "#         \"\"\"\n",
    "#         action: thrust or no thrust\n",
    "#         state[0] = y\n",
    "#         state[1] = y_dot\n",
    "#         \"\"\"\n",
    "#\n",
    "#         # Update velocity using element-wise operation. This leads to an error from PyTorch.\n",
    "#         state[1] = state[1] + GRAVITY_ACCEL * FRAME_TIME - BOOST_ACCEL * FRAME_TIME * action\n",
    "#\n",
    "#         # Update state\n",
    "#         step_mat = t.tensor([[1., FRAME_TIME],\n",
    "#                             [0., 1.]])\n",
    "#         state = t.matmul(step_mat, state)\n",
    "#\n",
    "#         return state"
   ],
   "metadata": {
    "collapsed": false,
    "pycharm": {
     "name": "#%%\n"
    }
   }
  },
  {
   "cell_type": "code",
   "execution_count": 45,
   "outputs": [],
   "source": [
    "# a deterministic controller\n",
    "# Note:\n",
    "# 0. You only need to change the network architecture in \"__init__\"\n",
    "# 1. nn.Sigmoid outputs values from 0 to 1, nn.Tanh from -1 to 1\n",
    "# 2. You have all the freedom to make the network wider (by increasing \"dim_hidden\") or deeper (by adding more lines to nn.Sequential)\n",
    "# 3. Always start with something simple\n",
    "\n",
    "class Controller(nn.Module):\n",
    "\n",
    "    def __init__(self, dim_input, dim_hidden, dim_output):\n",
    "        \"\"\"\n",
    "        dim_input: # of system states\n",
    "        dim_output: # of actions\n",
    "        dim_hidden: up to you\n",
    "        \"\"\"\n",
    "        super(Controller, self).__init__()\n",
    "        self.network = nn.Sequential(\n",
    "            nn.Linear(dim_input, dim_hidden),\n",
    "            nn.Tanh(),\n",
    "            nn.Linear(dim_hidden, dim_output),\n",
    "            # You can add more layers here\n",
    "            nn.Sigmoid()\n",
    "        )\n",
    "\n",
    "    def forward(self, state):\n",
    "        action = self.network(state)\n",
    "        return action"
   ],
   "metadata": {
    "collapsed": false,
    "pycharm": {
     "name": "#%%\n"
    }
   }
  },
  {
   "cell_type": "code",
   "execution_count": 46,
   "outputs": [],
   "source": [
    "# the simulator that rolls out x(1), x(2), ..., x(T)\n",
    "# Note:\n",
    "# 0. Need to change \"initialize_state\" to optimize the controller over a distribution of initial states\n",
    "# 1. self.action_trajectory and self.state_trajectory stores the action and state trajectories along time\n",
    "\n",
    "class Simulation(nn.Module):\n",
    "\n",
    "    def __init__(self, controller, dynamics, T):\n",
    "        super(Simulation, self).__init__()\n",
    "        self.state = self.initialize_state()\n",
    "        self.controller = controller\n",
    "        self.dynamics = dynamics\n",
    "        self.T = T\n",
    "        self.action_trajectory = []\n",
    "        self.state_trajectory = []\n",
    "\n",
    "    def forward(self, state):\n",
    "        self.action_trajectory = []\n",
    "        self.state_trajectory = []\n",
    "        for _ in range(T):\n",
    "            action = self.controller.forward(state)\n",
    "            state = self.dynamics.forward(state, action)\n",
    "            self.action_trajectory.append(action)\n",
    "            self.state_trajectory.append(state)\n",
    "        return self.error(state)\n",
    "\n",
    "    @staticmethod\n",
    "    def initialize_state():\n",
    "        # state = [0.3, 0., 0.1, 0., 0.7, 0.]  # TODO: need batch of initial states\n",
    "        state = [math.pi*(random.random()-0.5), 0.1*math.pi*(random.random()-0.5), # orientation state\n",
    "                (random.random()-0.5), 0.1*(random.random()-0.5), # horizontal state\n",
    "                0.5*(random.random()+1), -0.1*random.random()]  # vertical state\n",
    "        print(state)\n",
    "        return t.tensor(state, requires_grad=False).float()\n",
    "\n",
    "    def error(self, state):\n",
    "        return state[0]**2 + state[1]**2 + state[2]**2 + state[3]**2 + state[4]**2 + state[5]**2"
   ],
   "metadata": {
    "collapsed": false,
    "pycharm": {
     "name": "#%%\n"
    }
   }
  },
  {
   "cell_type": "code",
   "execution_count": 47,
   "outputs": [],
   "source": [
    "# set up the optimizer\n",
    "# Note:\n",
    "# 0. LBFGS is a good choice if you don't have a large batch size (i.e., a lot of initial states to consider simultaneously)\n",
    "# 1. You can also try SGD and other momentum-based methods implemented in PyTorch\n",
    "# 2. You will need to customize \"visualize\"\n",
    "# 3. loss.backward is where the gradient is calculated (d_loss/d_variables)\n",
    "# 4. self.optimizer.step(closure) is where gradient descent is done\n",
    "\n",
    "class Optimize:\n",
    "    def __init__(self, simulation):\n",
    "        self.simulation = simulation\n",
    "        self.parameters = simulation.controller.parameters()\n",
    "        self.optimizer = optim.LBFGS(self.parameters, lr=0.01)\n",
    "\n",
    "    def step(self):\n",
    "        def closure():\n",
    "            loss = self.simulation(self.simulation.state)\n",
    "            self.optimizer.zero_grad()\n",
    "            loss.backward()\n",
    "            return loss\n",
    "        self.optimizer.step(closure)\n",
    "        return closure()\n",
    "\n",
    "    def train(self, epochs):\n",
    "        for epoch in range(epochs):\n",
    "            loss = self.step()\n",
    "            print('[%d] loss: %.3f' % (epoch + 1, loss))\n",
    "            cord = self.visualize()\n",
    "        # time = np.arange(0,len(cord[:,2]))*0.1\n",
    "        print('Landing Trajectory:')\n",
    "        plt.quiver(cord[:, 2], cord[:, 4], -0.05*np.sin(cord[:, 0]), 0.05*np.cos(cord[:, 0]) )\n",
    "        plt.show()\n",
    "\n",
    "    def visualize(self):\n",
    "        data = np.array([self.simulation.state_trajectory[i].detach().numpy() for i in range(self.simulation.T)])\n",
    "        plt.scatter(data[:,2], data[:,4] )\n",
    "        plt.show()\n",
    "        return data"
   ],
   "metadata": {
    "collapsed": false,
    "pycharm": {
     "name": "#%%\n"
    }
   }
  },
  {
   "cell_type": "code",
   "execution_count": 48,
   "outputs": [
    {
     "name": "stdout",
     "output_type": "stream",
     "text": [
      "[-1.3890079046692634, -0.06320380014301975, -0.3033673617602226, 0.029745276640787622, 0.70058223060976, -0.02080196719203127]\n",
      "[1] loss: 15.767\n"
     ]
    },
    {
     "data": {
      "text/plain": "<Figure size 432x288 with 1 Axes>",
      "image/png": "[encoded data removed]"
     },
     "metadata": {
      "needs_background": "light"
     },
     "output_type": "display_data"
    },
    {
     "name": "stdout",
     "output_type": "stream",
     "text": [
      "[2] loss: 9.748\n"
     ]
    },
    {
     "data": {
      "text/plain": "<Figure size 432x288 with 1 Axes>",
      "image/png": "[encoded data removed]"
     },
     "metadata": {
      "needs_background": "light"
     },
     "output_type": "display_data"
    },
    {
     "name": "stdout",
     "output_type": "stream",
     "text": [
      "Landing Trajectory:\n"
     ]
    },
    {
     "data": {
      "text/plain": "<Figure size 432x288 with 1 Axes>",
      "image/png": "[encoded data removed]"
     },
     "metadata": {
      "needs_background": "light"
     },
     "output_type": "display_data"
    }
   ],
   "source": [
    "# Now it's time to run the code!\n",
    "\n",
    "T = 100  # number of time steps\n",
    "dim_input = 6  # state space dimensions\n",
    "dim_hidden = 12  # latent dimensions\n",
    "dim_output = 2  # action space dimensions\n",
    "d = Dynamics()  # define dynamics\n",
    "c = Controller(dim_input, dim_hidden, dim_output)  # define controller\n",
    "s = Simulation(c, d, T)  # define simulation\n",
    "o = Optimize(s)  # define optimizer\n",
    "o.train(2)  # solve the optimization problem\n",
    "\n"
   ],
   "metadata": {
    "collapsed": false,
    "pycharm": {
     "name": "#%%\n"
    }
   }
  }
 ],
 "metadata": {
  "kernelspec": {
   "display_name": "Python 3",
   "language": "python",
   "name": "python3"
  },
  "language_info": {
   "codemirror_mode": {
    "name": "ipython",
    "version": 2
   },
   "file_extension": ".py",
   "mimetype": "text/x-python",
   "name": "python",
   "nbconvert_exporter": "python",
   "pygments_lexer": "ipython2",
   "version": "2.7.6"
  }
 },
 "nbformat": 4,
 "nbformat_minor": 0
}