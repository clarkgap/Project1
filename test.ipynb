{
 "cells": [
  {
   "cell_type": "markdown",
   "source": [
    "Two-link Planar Arm:\n",
    "\n",
    "Length of each link ($l$) = 0.5\n",
    "\n",
    "action: $[w1, w2]$ <br />\n",
    "$w1$ = joint1 angular velocity <br />\n",
    "$w2$ = joint2 angular velocity\n",
    "\n",
    "state: $[t1, t2]$ <br />\n",
    "$t1$ = joint1 angle <br />\n",
    "$t2$ = joint2 angle <br />\n",
    "\n",
    "position of end effector: <br />\n",
    "$x$ = x position <br />\n",
    "$y$ = y position <br />"
   ],
   "metadata": {
    "collapsed": false
   }
  },
  {
   "cell_type": "code",
   "execution_count": 26,
   "metadata": {
    "collapsed": true,
    "pycharm": {
     "name": "#%%\n"
    }
   },
   "outputs": [
    {
     "name": "stdout",
     "output_type": "stream",
     "text": [
      "tensor([[-0.4523, -0.2284, -0.4701, -0.4698],\n",
      "        [-2.5880,  3.1304,  0.1419,  0.2314],\n",
      "        [ 2.7630, -1.6823, -0.0975, -0.1287]])\n",
      "tensor([[0.1048, 0.7837],\n",
      "        [0.2448, 0.7325],\n",
      "        [0.9693, 0.9475]])\n"
     ]
    }
   ],
   "source": [
    "import torch as t\n",
    "import math\n",
    "import numpy as np\n",
    "\n",
    "state=t.tensor([2*math.pi,2*math.pi,1,1])*(t.rand(3,4)-0.5)\n",
    "print(state)\n",
    "\n",
    "action=t.rand(3,2)\n",
    "print(action)\n",
    "\n",
    "\n"
   ]
  }
 ],
 "metadata": {
  "kernelspec": {
   "display_name": "Python 3",
   "language": "python",
   "name": "python3"
  },
  "language_info": {
   "codemirror_mode": {
    "name": "ipython",
    "version": 2
   },
   "file_extension": ".py",
   "mimetype": "text/x-python",
   "name": "python",
   "nbconvert_exporter": "python",
   "pygments_lexer": "ipython2",
   "version": "2.7.6"
  }
 },
 "nbformat": 4,
 "nbformat_minor": 0
}