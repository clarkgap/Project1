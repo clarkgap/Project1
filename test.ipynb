{
 "cells": [
  {
   "cell_type": "code",
   "execution_count": 29,
   "metadata": {
    "collapsed": true,
    "pycharm": {
     "name": "#%%\n"
    }
   },
   "outputs": [
    {
     "name": "stdout",
     "output_type": "stream",
     "text": [
      "tensor([ 0.0000,  0.0000,  0.0000, -0.7071,  0.0000,  0.0000])\n",
      "tensor([0.0000, 0.0000, 0.0000, 0.0000, 0.0000, 0.7071])\n",
      "tensor([0., 0., 0., 1., 0., 1.])\n",
      "tensor([ 7.8540e-01,  0.0000e+00, -1.2728e-03, -1.2728e-02,  7.2790e-05,\n",
      "         7.2790e-04])\n"
     ]
    }
   ],
   "source": [
    "import torch as t\n",
    "import math\n",
    "import numpy as np\n",
    "\n",
    "FRAME_TIME = 0.1  # time interval\n",
    "GRAVITY_ACCEL = 0.12  # gravity constant\n",
    "BOOST_ACCEL = 0.18  # thrust constant\n",
    "ROTATION_ACCEL = np.radians(20)  # rotation constant\n",
    "\n",
    "action = t.tensor([0.5, 1.])\n",
    "state = t.tensor([0.7854, 0., 0., 0., 0., 0.])\n",
    "\n",
    "delta_state_ori = ROTATION_ACCEL* FRAME_TIME*t.tensor([0., 1, 0., 0., 0., 0.])\n",
    "\n",
    "sin = t.matmul(t.tensor([[0., 0., 0., 0., 0., 0.],\n",
    "                         [0., 0., 0., 0., 0., 0.],\n",
    "                         [0., 0., 0., 0., 0., 0.],\n",
    "                         [-1., 0., 0., 0., 0., 0.],\n",
    "                         [0., 0., 0., 0., 0., 0.],\n",
    "                         [0., 0., 0., 0., 0., 0.]]),t.sin(state))\n",
    "cos = t.matmul(t.tensor([[0., 0., 0., 0., 0., 0.],\n",
    "                         [0., 0., 0., 0., 0., 0.],\n",
    "                         [0., 0., 0., 0., 0., 0.],\n",
    "                         [0., 0., 0., 0., 0., 0.],\n",
    "                         [0., 0., 0., 0., 0., 0.],\n",
    "                         [1., 0., 0., 0., 0., 0.]]),t.cos(state))\n",
    "print(sin)\n",
    "print(cos)\n",
    "cos_sin = cos+sin\n",
    "delta_state_pos = BOOST_ACCEL* FRAME_TIME*t.tensor([0., 0., 0., 1., 0., 1.])*cos_sin # x and y components of acceleration\n",
    "\n",
    "delta_state_combine = delta_state_ori + delta_state_pos\n",
    "\n",
    "action_mat = t.tensor([[0., 0.],\n",
    "                 [2., 0.],\n",
    "                 [0., 0.],\n",
    "                 [0., 1.],\n",
    "                 [0., 0.],\n",
    "                 [0., 1.]])\n",
    "a_a = t.matmul(action_mat, action) + t.tensor([0., -1., 0., 0., 0., 0.]) # get ori and pos accelerations\n",
    "print(a_a)\n",
    "\n",
    "delta_state = delta_state_combine*a_a\n",
    "\n",
    "state_gravity = GRAVITY_ACCEL * FRAME_TIME*t.tensor([0., 0., 0., 0., 0., -1.])\n",
    "state = state + delta_state + state_gravity\n",
    "\n",
    "step_mat = t.tensor([[1., FRAME_TIME, 0., 0., 0., 0.],\n",
    "                     [0., 1., 0., 0., 0., 0.],\n",
    "                     [0., 0., 1., FRAME_TIME, 0., 0.],\n",
    "                     [0., 0., 0., 1., 0., 0.],\n",
    "                     [0., 0., 0., 0., 1., FRAME_TIME,],\n",
    "                     [0., 0., 0., 0., 0., 1.]])\n",
    "state = t.matmul(step_mat, state)\n",
    "\n",
    "print(state)\n"
   ]
  },
  {
   "cell_type": "code",
   "execution_count": 30,
   "outputs": [
    {
     "name": "stdout",
     "output_type": "stream",
     "text": [
      "tensor([[2., 2., 2., 2.]])\n",
      "tensor([2., 2., 2., 2.])\n"
     ]
    }
   ],
   "source": [
    "import numpy as np\n",
    "import time\n",
    "import torch as t\n",
    "import random\n",
    "import math\n",
    "\n",
    "N=10\n",
    "\n",
    "states=t.zeros(N,1, 4)\n",
    "\n",
    "for i in range(N):\n",
    "    state = [i,i,i,i]  # vertical state\n",
    "    state = t.tensor(state, requires_grad=False).float()\n",
    "    states[i, :, :] = state\n",
    "print(states[2,:,:])\n",
    "print(t.squeeze(states[2,:,:]))"
   ],
   "metadata": {
    "collapsed": false,
    "pycharm": {
     "name": "#%%\n"
    }
   }
  },
  {
   "cell_type": "code",
   "execution_count": 31,
   "outputs": [
    {
     "name": "stdout",
     "output_type": "stream",
     "text": [
      "[[-1.22687832e+00 -1.43382086e-01 -4.04160376e-01  2.78635281e-05\n",
      "   9.20983136e-01 -3.44057860e-03]\n",
      " [-9.71739146e-01 -5.78271909e-02  4.79079973e-01  3.21300437e-02\n",
      "   7.47666970e-01 -6.55236858e-02]\n",
      " [-1.30735864e+00  1.36263639e-01 -4.54463433e-02 -3.18200644e-02\n",
      "   6.58377199e-01 -1.79491367e-02]\n",
      " [ 4.55668664e-01 -6.29541138e-02  4.43013476e-01 -4.75639483e-02\n",
      "   7.17584587e-01 -7.21382713e-02]\n",
      " [ 9.59209327e-01 -1.07801847e-01 -1.90450130e-01 -1.42433083e-02\n",
      "   5.03625377e-01 -8.95606827e-02]]\n",
      "tensor([[-1.2269e+00, -1.4338e-01, -4.0416e-01,  2.7864e-05,  9.2098e-01,\n",
      "         -3.4406e-03],\n",
      "        [-9.7174e-01, -5.7827e-02,  4.7908e-01,  3.2130e-02,  7.4767e-01,\n",
      "         -6.5524e-02],\n",
      "        [-1.3074e+00,  1.3626e-01, -4.5446e-02, -3.1820e-02,  6.5838e-01,\n",
      "         -1.7949e-02],\n",
      "        [ 4.5567e-01, -6.2954e-02,  4.4301e-01, -4.7564e-02,  7.1758e-01,\n",
      "         -7.2138e-02],\n",
      "        [ 9.5921e-01, -1.0780e-01, -1.9045e-01, -1.4243e-02,  5.0363e-01,\n",
      "         -8.9561e-02]], dtype=torch.float64)\n",
      "tensor([[-1.2269e+00, -1.4338e-01, -4.0416e-01,  2.7864e-05,  9.2098e-01,\n",
      "         -3.4406e-03],\n",
      "        [-9.7174e-01, -5.7827e-02,  4.7908e-01,  3.2130e-02,  7.4767e-01,\n",
      "         -6.5524e-02],\n",
      "        [-1.3074e+00,  1.3626e-01, -4.5446e-02, -3.1820e-02,  6.5838e-01,\n",
      "         -1.7949e-02],\n",
      "        [ 4.5567e-01, -6.2954e-02,  4.4301e-01, -4.7564e-02,  7.1758e-01,\n",
      "         -7.2138e-02],\n",
      "        [ 9.5921e-01, -1.0780e-01, -1.9045e-01, -1.4243e-02,  5.0363e-01,\n",
      "         -8.9561e-02]])\n"
     ]
    }
   ],
   "source": [
    "import torch as t\n",
    "import numpy as np\n",
    "import math\n",
    "import random\n",
    "\n",
    "N=5\n",
    "initial = np.zeros((N,6))\n",
    "for i in range(N):\n",
    "    initial[i] = [math.pi*(random.random()-0.5), 0.1*math.pi*(random.random()-0.5), # orientation state\n",
    "             (random.random()-0.5), 0.1*(random.random()-0.5), # horizontal state\n",
    "             0.5*(random.random()+1), -0.1*random.random()]  # vertical state\n",
    "\n",
    "print(initial)\n",
    "state = t.from_numpy(initial)\n",
    "print(state)\n",
    "print(t.tensor(initial, requires_grad=False).float())"
   ],
   "metadata": {
    "collapsed": false,
    "pycharm": {
     "name": "#%%\n"
    }
   }
  },
  {
   "cell_type": "code",
   "execution_count": 32,
   "outputs": [
    {
     "name": "stdout",
     "output_type": "stream",
     "text": [
      "tensor([[1., 1., 1., 1., 1., 1.]])\n",
      "tensor([[1., 1., 1., 1., 1., 1.]])\n"
     ]
    },
    {
     "ename": "RuntimeError",
     "evalue": "mat1 and mat2 shapes cannot be multiplied (1x6 and 1x6)",
     "output_type": "error",
     "traceback": [
      "\u001B[1;31m---------------------------------------------------------------------------\u001B[0m",
      "\u001B[1;31mRuntimeError\u001B[0m                              Traceback (most recent call last)",
      "\u001B[1;32m<ipython-input-32-dc76de517d4b>\u001B[0m in \u001B[0;36m<module>\u001B[1;34m\u001B[0m\n\u001B[0;32m      4\u001B[0m \u001B[0mb\u001B[0m \u001B[1;33m=\u001B[0m \u001B[0mtf\u001B[0m\u001B[1;33m.\u001B[0m\u001B[0mones\u001B[0m\u001B[1;33m(\u001B[0m\u001B[1;33m(\u001B[0m\u001B[1;36m1\u001B[0m\u001B[1;33m,\u001B[0m \u001B[1;36m6\u001B[0m\u001B[1;33m)\u001B[0m\u001B[1;33m)\u001B[0m\u001B[1;33m\u001B[0m\u001B[1;33m\u001B[0m\u001B[0m\n\u001B[0;32m      5\u001B[0m \u001B[0mprint\u001B[0m\u001B[1;33m(\u001B[0m\u001B[0mb\u001B[0m\u001B[1;33m)\u001B[0m\u001B[1;33m\u001B[0m\u001B[1;33m\u001B[0m\u001B[0m\n\u001B[1;32m----> 6\u001B[1;33m \u001B[0mc\u001B[0m \u001B[1;33m=\u001B[0m \u001B[0mtf\u001B[0m\u001B[1;33m.\u001B[0m\u001B[0mmatmul\u001B[0m\u001B[1;33m(\u001B[0m\u001B[0ma\u001B[0m\u001B[1;33m,\u001B[0m \u001B[0mb\u001B[0m\u001B[1;33m)\u001B[0m\u001B[1;33m\u001B[0m\u001B[1;33m\u001B[0m\u001B[0m\n\u001B[0m\u001B[0;32m      7\u001B[0m \u001B[0mprint\u001B[0m\u001B[1;33m(\u001B[0m\u001B[0mc\u001B[0m\u001B[1;33m)\u001B[0m\u001B[1;33m\u001B[0m\u001B[1;33m\u001B[0m\u001B[0m\n",
      "\u001B[1;31mRuntimeError\u001B[0m: mat1 and mat2 shapes cannot be multiplied (1x6 and 1x6)"
     ]
    }
   ],
   "source": [
    "import torch as tf\n",
    "a = tf.ones((1, 6))\n",
    "print(a)\n",
    "b = tf.ones((1, 6))\n",
    "print(b)\n",
    "c = tf.matmul(a, b)\n",
    "print(c)"
   ],
   "metadata": {
    "collapsed": false,
    "pycharm": {
     "name": "#%%\n"
    }
   }
  },
  {
   "cell_type": "code",
   "execution_count": 38,
   "outputs": [
    {
     "name": "stdout",
     "output_type": "stream",
     "text": [
      "[tensor([[ 0.7918,  0.4316,  0.5074, -0.7955, -0.7166],\n",
      "        [ 0.0311, -0.8669, -0.3061,  0.1821, -0.6131],\n",
      "        [ 0.8762,  0.2780, -0.5602, -0.7466,  0.6070]]), tensor([[-0.5836, -0.2287, -0.6798, -1.5697, -0.4602],\n",
      "        [ 0.0624,  0.7036, -1.5324, -0.9347,  0.2301],\n",
      "        [-0.5355,  0.8844,  0.6417,  0.6791, -0.8348]])]\n",
      "C\n",
      "tensor([2.8806, 3.3932, 4.2277, 4.9076, 3.4618])\n"
     ]
    }
   ],
   "source": [
    "import torch\n",
    "my_list = [torch.randn(3, 5), torch.randn(3, 5)]\n",
    "result = torch.stack(my_list, dim=0).abs().sum(dim=0).sum(dim=0)\n",
    "print(my_list) #torch.Size([5])\n",
    "print('C')\n",
    "print(result)"
   ],
   "metadata": {
    "collapsed": false,
    "pycharm": {
     "name": "#%%\n"
    }
   }
  },
  {
   "cell_type": "code",
   "execution_count": 6,
   "outputs": [
    {
     "data": {
      "text/plain": "<Figure size 432x288 with 1 Axes>",
      "image/png": "[encoded data removed]"
     },
     "metadata": {
      "needs_background": "light"
     },
     "output_type": "display_data"
    }
   ],
   "source": [
    "import matplotlib.pyplot as plt\n",
    "\n",
    "\n",
    "x = [200, 500]\n",
    "y = [300, 300]\n",
    "plt.plot(x, y, color=\"red\", linewidth=3)\n",
    "plt.show()"
   ],
   "metadata": {
    "collapsed": false,
    "pycharm": {
     "name": "#%%\n"
    }
   }
  },
  {
   "cell_type": "code",
   "execution_count": 45,
   "outputs": [
    {
     "name": "stdout",
     "output_type": "stream",
     "text": [
      "tensor([[0.8202, 0.2240, 0.0431, 0.6389, 0.3694, 0.2665],\n",
      "        [0.3105, 0.4224, 0.9859, 0.0083, 0.2711, 0.3807]])\n",
      "tensor([0.8202, 0.2240, 0.0431, 0.6389, 0.3694, 0.2665])\n"
     ]
    }
   ],
   "source": [
    "import torch as t\n",
    "a = t.rand((2, 6))\n",
    "print(a)\n",
    "b = a[0]\n",
    "print(b)"
   ],
   "metadata": {
    "collapsed": false,
    "pycharm": {
     "name": "#%%\n"
    }
   }
  }
 ],
 "metadata": {
  "kernelspec": {
   "display_name": "Python 3",
   "language": "python",
   "name": "python3"
  },
  "language_info": {
   "codemirror_mode": {
    "name": "ipython",
    "version": 2
   },
   "file_extension": ".py",
   "mimetype": "text/x-python",
   "name": "python",
   "nbconvert_exporter": "python",
   "pygments_lexer": "ipython2",
   "version": "2.7.6"
  }
 },
 "nbformat": 4,
 "nbformat_minor": 0
}