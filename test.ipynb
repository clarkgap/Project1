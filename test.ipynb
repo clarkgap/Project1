{
 "cells": [
  {
   "cell_type": "code",
   "execution_count": 15,
   "metadata": {
    "collapsed": true,
    "pycharm": {
     "name": "#%%\n"
    }
   },
   "outputs": [
    {
     "name": "stdout",
     "output_type": "stream",
     "text": [
      "tensor([ 0.0000,  0.0000,  0.0000, -0.7071,  0.0000,  0.0000])\n",
      "tensor([0.0000, 0.0000, 0.0000, 0.0000, 0.0000, 0.7071])\n",
      "tensor([0., 0., 0., 1., 0., 1.])\n",
      "tensor([ 7.8540e-01,  0.0000e+00, -1.2728e-03, -1.2728e-02,  7.2790e-05,\n",
      "         7.2790e-04])\n"
     ]
    }
   ],
   "source": [
    "import torch as t\n",
    "import math\n",
    "import numpy as np\n",
    "\n",
    "FRAME_TIME = 0.1  # time interval\n",
    "GRAVITY_ACCEL = 0.12  # gravity constant\n",
    "BOOST_ACCEL = 0.18  # thrust constant\n",
    "ROTATION_ACCEL = np.radians(20)  # rotation constant\n",
    "\n",
    "action = t.tensor([0.5, 1.])\n",
    "state = t.tensor([0.7854, 0., 0., 0., 0., 0.])\n",
    "\n",
    "delta_state_ori = ROTATION_ACCEL* FRAME_TIME*t.tensor([0., 1, 0., 0., 0., 0.])\n",
    "\n",
    "sin = t.matmul(t.tensor([[0., 0., 0., 0., 0., 0.],\n",
    "                         [0., 0., 0., 0., 0., 0.],\n",
    "                         [0., 0., 0., 0., 0., 0.],\n",
    "                         [-1., 0., 0., 0., 0., 0.],\n",
    "                         [0., 0., 0., 0., 0., 0.],\n",
    "                         [0., 0., 0., 0., 0., 0.]]),t.sin(state))\n",
    "cos = t.matmul(t.tensor([[0., 0., 0., 0., 0., 0.],\n",
    "                         [0., 0., 0., 0., 0., 0.],\n",
    "                         [0., 0., 0., 0., 0., 0.],\n",
    "                         [0., 0., 0., 0., 0., 0.],\n",
    "                         [0., 0., 0., 0., 0., 0.],\n",
    "                         [1., 0., 0., 0., 0., 0.]]),t.cos(state))\n",
    "print(sin)\n",
    "print(cos)\n",
    "cos_sin = cos+sin\n",
    "delta_state_pos = BOOST_ACCEL* FRAME_TIME*t.tensor([0., 0., 0., 1., 0., 1.])*cos_sin # x and y components of acceleration\n",
    "\n",
    "delta_state_combine = delta_state_ori + delta_state_pos\n",
    "\n",
    "action_mat = t.tensor([[0., 0.],\n",
    "                 [2., 0.],\n",
    "                 [0., 0.],\n",
    "                 [0., 1.],\n",
    "                 [0., 0.],\n",
    "                 [0., 1.]])\n",
    "a_a = t.matmul(action_mat, action) + t.tensor([0., -1., 0., 0., 0., 0.]) # get ori and pos accelerations\n",
    "print(a_a)\n",
    "\n",
    "delta_state = delta_state_combine*a_a\n",
    "\n",
    "state_gravity = GRAVITY_ACCEL * FRAME_TIME*t.tensor([0., 0., 0., 0., 0., -1.])\n",
    "state = state + delta_state + state_gravity\n",
    "\n",
    "step_mat = t.tensor([[1., FRAME_TIME, 0., 0., 0., 0.],\n",
    "                     [0., 1., 0., 0., 0., 0.],\n",
    "                     [0., 0., 1., FRAME_TIME, 0., 0.],\n",
    "                     [0., 0., 0., 1., 0., 0.],\n",
    "                     [0., 0., 0., 0., 1., FRAME_TIME,],\n",
    "                     [0., 0., 0., 0., 0., 1.]])\n",
    "state = t.matmul(step_mat, state)\n",
    "\n",
    "print(state)\n"
   ]
  },
  {
   "cell_type": "code",
   "execution_count": 29,
   "outputs": [
    {
     "name": "stdout",
     "output_type": "stream",
     "text": [
      "tensor([[2., 2., 2., 2.]])\n",
      "tensor([2., 2., 2., 2.])\n"
     ]
    }
   ],
   "source": [
    "import numpy as np\n",
    "import time\n",
    "import torch as t\n",
    "import random\n",
    "import math\n",
    "\n",
    "N=10\n",
    "\n",
    "states=t.zeros(N,1, 4)\n",
    "\n",
    "for i in range(N):\n",
    "    state = [i,i,i,i]  # vertical state\n",
    "    state = t.tensor(state, requires_grad=False).float()\n",
    "    states[i, :, :] = state\n",
    "print(states[2,:,:])\n",
    "print(t.squeeze(states[2,:,:]))"
   ],
   "metadata": {
    "collapsed": false,
    "pycharm": {
     "name": "#%%\n"
    }
   }
  },
  {
   "cell_type": "code",
   "execution_count": 13,
   "outputs": [
    {
     "name": "stdout",
     "output_type": "stream",
     "text": [
      "[[-1.45254147 -0.1201659  -0.31123233  0.03281846  0.79113479 -0.00707725]\n",
      " [-0.89370754 -0.12677698  0.29161829  0.00910432  0.59386505 -0.01517993]\n",
      " [ 1.40664903  0.1164549   0.03859754 -0.02730336  0.82349343 -0.05121958]\n",
      " [ 1.3307975   0.00624109  0.40385437 -0.02536792  0.65310533 -0.0442462 ]\n",
      " [-0.68686895  0.13296215 -0.02277104 -0.02018893  0.83103639 -0.02333656]]\n",
      "tensor([[-1.4525, -0.1202, -0.3112,  0.0328,  0.7911, -0.0071],\n",
      "        [-0.8937, -0.1268,  0.2916,  0.0091,  0.5939, -0.0152],\n",
      "        [ 1.4066,  0.1165,  0.0386, -0.0273,  0.8235, -0.0512],\n",
      "        [ 1.3308,  0.0062,  0.4039, -0.0254,  0.6531, -0.0442],\n",
      "        [-0.6869,  0.1330, -0.0228, -0.0202,  0.8310, -0.0233]],\n",
      "       dtype=torch.float64)\n"
     ]
    }
   ],
   "source": [
    "import torch as t\n",
    "import numpy as np\n",
    "import math\n",
    "import random\n",
    "\n",
    "N=5\n",
    "initial = np.zeros((N,6))\n",
    "for i in range(N):\n",
    "    initial[i] = [math.pi*(random.random()-0.5), 0.1*math.pi*(random.random()-0.5), # orientation state\n",
    "             (random.random()-0.5), 0.1*(random.random()-0.5), # horizontal state\n",
    "             0.5*(random.random()+1), -0.1*random.random()]  # vertical state\n",
    "\n",
    "print(initial)\n",
    "state = t.from_numpy(initial)\n",
    "print(state)"
   ],
   "metadata": {
    "collapsed": false,
    "pycharm": {
     "name": "#%%\n"
    }
   }
  }
 ],
 "metadata": {
  "kernelspec": {
   "display_name": "Python 3",
   "language": "python",
   "name": "python3"
  },
  "language_info": {
   "codemirror_mode": {
    "name": "ipython",
    "version": 2
   },
   "file_extension": ".py",
   "mimetype": "text/x-python",
   "name": "python",
   "nbconvert_exporter": "python",
   "pygments_lexer": "ipython2",
   "version": "2.7.6"
  }
 },
 "nbformat": 4,
 "nbformat_minor": 0
}