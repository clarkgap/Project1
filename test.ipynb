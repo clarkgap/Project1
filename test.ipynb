{
 "cells": [
  {
   "cell_type": "code",
   "execution_count": 40,
   "metadata": {
    "collapsed": true
   },
   "outputs": [
    {
     "name": "stdout",
     "output_type": "stream",
     "text": [
      "0\n",
      "1\n",
      "2\n",
      "3\n",
      "4\n"
     ]
    },
    {
     "data": {
      "text/plain": "16"
     },
     "execution_count": 40,
     "metadata": {},
     "output_type": "execute_result"
    }
   ],
   "source": [
    "import random\n",
    "\n",
    "class Dog:\n",
    "\n",
    "    def __init__(self, name):\n",
    "        self.name = name\n",
    "        self.tricks = []    # creates a new empty list for each dog\n",
    "\n",
    "    def add(self, num):\n",
    "        for i in range(num):\n",
    "            print(i)\n",
    "            x = self.hello(i)\n",
    "        return x\n",
    "    def hello(self,i):\n",
    "        return 2**i\n",
    "\n",
    "o=Dog('Fido')\n",
    "o.add(5)"
   ]
  }
 ],
 "metadata": {
  "kernelspec": {
   "display_name": "Python 3",
   "language": "python",
   "name": "python3"
  },
  "language_info": {
   "codemirror_mode": {
    "name": "ipython",
    "version": 2
   },
   "file_extension": ".py",
   "mimetype": "text/x-python",
   "name": "python",
   "nbconvert_exporter": "python",
   "pygments_lexer": "ipython2",
   "version": "2.7.6"
  }
 },
 "nbformat": 4,
 "nbformat_minor": 0
}