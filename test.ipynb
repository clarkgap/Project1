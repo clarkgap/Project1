{
 "cells": [
  {
   "cell_type": "code",
   "execution_count": 15,
   "metadata": {
    "collapsed": true,
    "pycharm": {
     "name": "#%%\n"
    }
   },
   "outputs": [
    {
     "name": "stdout",
     "output_type": "stream",
     "text": [
      "tensor([ 0.0000,  0.0000,  0.0000, -0.7071,  0.0000,  0.0000])\n",
      "tensor([0.0000, 0.0000, 0.0000, 0.0000, 0.0000, 0.7071])\n",
      "tensor([0., 0., 0., 1., 0., 1.])\n",
      "tensor([ 7.8540e-01,  0.0000e+00, -1.2728e-03, -1.2728e-02,  7.2790e-05,\n",
      "         7.2790e-04])\n"
     ]
    }
   ],
   "source": [
    "import torch as t\n",
    "import math\n",
    "import numpy as np\n",
    "\n",
    "FRAME_TIME = 0.1  # time interval\n",
    "GRAVITY_ACCEL = 0.12  # gravity constant\n",
    "BOOST_ACCEL = 0.18  # thrust constant\n",
    "ROTATION_ACCEL = np.radians(20)  # rotation constant\n",
    "\n",
    "action = t.tensor([0.5, 1.])\n",
    "state = t.tensor([0.7854, 0., 0., 0., 0., 0.])\n",
    "\n",
    "delta_state_ori = ROTATION_ACCEL* FRAME_TIME*t.tensor([0., 1, 0., 0., 0., 0.])\n",
    "\n",
    "sin = t.matmul(t.tensor([[0., 0., 0., 0., 0., 0.],\n",
    "                         [0., 0., 0., 0., 0., 0.],\n",
    "                         [0., 0., 0., 0., 0., 0.],\n",
    "                         [-1., 0., 0., 0., 0., 0.],\n",
    "                         [0., 0., 0., 0., 0., 0.],\n",
    "                         [0., 0., 0., 0., 0., 0.]]),t.sin(state))\n",
    "cos = t.matmul(t.tensor([[0., 0., 0., 0., 0., 0.],\n",
    "                         [0., 0., 0., 0., 0., 0.],\n",
    "                         [0., 0., 0., 0., 0., 0.],\n",
    "                         [0., 0., 0., 0., 0., 0.],\n",
    "                         [0., 0., 0., 0., 0., 0.],\n",
    "                         [1., 0., 0., 0., 0., 0.]]),t.cos(state))\n",
    "print(sin)\n",
    "print(cos)\n",
    "cos_sin = cos+sin\n",
    "delta_state_pos = BOOST_ACCEL* FRAME_TIME*t.tensor([0., 0., 0., 1., 0., 1.])*cos_sin # x and y components of acceleration\n",
    "\n",
    "delta_state_combine = delta_state_ori + delta_state_pos\n",
    "\n",
    "action_mat = t.tensor([[0., 0.],\n",
    "                 [2., 0.],\n",
    "                 [0., 0.],\n",
    "                 [0., 1.],\n",
    "                 [0., 0.],\n",
    "                 [0., 1.]])\n",
    "a_a = t.matmul(action_mat, action) + t.tensor([0., -1., 0., 0., 0., 0.]) # get ori and pos accelerations\n",
    "print(a_a)\n",
    "\n",
    "delta_state = delta_state_combine*a_a\n",
    "\n",
    "state_gravity = GRAVITY_ACCEL * FRAME_TIME*t.tensor([0., 0., 0., 0., 0., -1.])\n",
    "state = state + delta_state + state_gravity\n",
    "\n",
    "step_mat = t.tensor([[1., FRAME_TIME, 0., 0., 0., 0.],\n",
    "                     [0., 1., 0., 0., 0., 0.],\n",
    "                     [0., 0., 1., FRAME_TIME, 0., 0.],\n",
    "                     [0., 0., 0., 1., 0., 0.],\n",
    "                     [0., 0., 0., 0., 1., FRAME_TIME,],\n",
    "                     [0., 0., 0., 0., 0., 1.]])\n",
    "state = t.matmul(step_mat, state)\n",
    "\n",
    "print(state)\n"
   ]
  },
  {
   "cell_type": "code",
   "execution_count": 74,
   "outputs": [
    {
     "data": {
      "text/plain": "2"
     },
     "execution_count": 74,
     "metadata": {},
     "output_type": "execute_result"
    }
   ],
   "source": [
    "(state[4]*(1 / (1 + math.exp(4*(abs(state[4])-0.25)))))**2"
   ],
   "metadata": {
    "collapsed": false,
    "pycharm": {
     "name": "#%%\n"
    }
   }
  },
  {
   "cell_type": "code",
   "execution_count": 77,
   "outputs": [
    {
     "name": "stdout",
     "output_type": "stream",
     "text": [
      "[7.0, 0.0, 9.0, 4.0, 6.0, 1.0]\n"
     ]
    }
   ],
   "source": [
    "a = [7., 6., 5., 4., 3., 2.]\n",
    "b = [7., 0., 9., 4., 6., 1.]\n",
    "c = (a,b)\n",
    "print(c[1])\n"
   ],
   "metadata": {
    "collapsed": false,
    "pycharm": {
     "name": "#%%\n"
    }
   }
  }
 ],
 "metadata": {
  "kernelspec": {
   "display_name": "Python 3",
   "language": "python",
   "name": "python3"
  },
  "language_info": {
   "codemirror_mode": {
    "name": "ipython",
    "version": 2
   },
   "file_extension": ".py",
   "mimetype": "text/x-python",
   "name": "python",
   "nbconvert_exporter": "python",
   "pygments_lexer": "ipython2",
   "version": "2.7.6"
  }
 },
 "nbformat": 4,
 "nbformat_minor": 0
}