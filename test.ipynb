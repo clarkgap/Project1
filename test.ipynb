{
 "cells": [
  {
   "cell_type": "markdown",
   "source": [
    "**Two-link Planar Arm:**\n",
    "\n",
    "Length of each link ($l$) = 0.5\n",
    "\n",
    "action: $[w0, w1]$ <br />\n",
    "$w0$ = joint1 angular velocity <br />\n",
    "$w1$ = joint2 angular velocity\n",
    "\n",
    "state: $[t0, t1]$ <br />\n",
    "$t0$ = joint1 angle <br />\n",
    "$t1$ = joint2 angle <br />\n",
    "\n",
    "position of end effector: <br />\n",
    "$x$ = x position <br />\n",
    "$y$ = y position <br />"
   ],
   "metadata": {
    "collapsed": false
   }
  },
  {
   "cell_type": "code",
   "execution_count": 54,
   "outputs": [],
   "source": [
    "# environment:\n",
    "\n",
    "dt = 0.1 # time interval\n",
    "length = 1. # length of each link\n",
    "omega = 0.1 # max angular velocity of motor"
   ],
   "metadata": {
    "collapsed": false,
    "pycharm": {
     "name": "#%%\n"
    }
   }
  },
  {
   "cell_type": "code",
   "execution_count": 73,
   "metadata": {
    "collapsed": true,
    "pycharm": {
     "name": "#%%\n"
    }
   },
   "outputs": [
    {
     "name": "stdout",
     "output_type": "stream",
     "text": [
      "tensor([[ 2.9351, -0.9225],\n",
      "        [-2.8395, -2.1646],\n",
      "        [-2.2949, -3.1172]])\n",
      "cor:\n",
      "tensor([[-0.3750, -0.5921],\n",
      "        [-1.5142, -1.1264],\n",
      "        [-1.6622, -0.7735]])\n",
      "tensor([[-0.0032, -0.0120],\n",
      "        [ 0.0659, -0.0643],\n",
      "        [ 0.0482,  0.7660]])\n",
      "tensor(3.1317)\n"
     ]
    }
   ],
   "source": [
    "import torch as t\n",
    "import math\n",
    "import numpy as np\n",
    "import random\n",
    "\n",
    "n=3\n",
    "\n",
    "state=2*math.pi*(t.rand(n,2)-0.5)\n",
    "print(state)\n",
    "action=t.rand(n,2)\n",
    "\n",
    "target = np.zeros((n,2))\n",
    "for i in range(n):\n",
    "    ang = 2*math.pi*random.random()\n",
    "    radius = random.random()\n",
    "    target[i] = [radius*math.cos(ang), radius*math.sin(ang)] # generator points in work space\n",
    "target = t.tensor(target, requires_grad=False).float()\n",
    "\n",
    "x = t.matmul(length*t.cos(state),t.tensor([1.,1.]))\n",
    "y = t.matmul(length*t.sin(state),t.tensor([1.,1.]))\n",
    "pos = t.transpose(t.stack((x,y),dim=0),0,1)\n",
    "print('cor:')\n",
    "print(pos)\n",
    "print(target)\n",
    "\n",
    "dist = target-pos\n",
    "loss = t.square(dist).sum(dim=0).sum(dim=0)/n\n",
    "print(loss)\n",
    "\n",
    "r = t.square(x) + t.square(y) # weight of each state\n",
    "\n"
   ]
  },
  {
   "cell_type": "code",
   "execution_count": 56,
   "outputs": [
    {
     "name": "stdout",
     "output_type": "stream",
     "text": [
      "tensor([[ 0.0952, -2.5917],\n",
      "        [ 2.5947,  1.5097],\n",
      "        [ 0.9503, -0.7886],\n",
      "        [ 0.3622,  1.0048],\n",
      "        [-1.8090,  2.0279]])\n"
     ]
    }
   ],
   "source": [
    "n=5\n",
    "initial = 2*math.pi*(t.rand(n,2)-0.5)\n",
    "print(initial)"
   ],
   "metadata": {
    "collapsed": false,
    "pycharm": {
     "name": "#%%\n"
    }
   }
  }
 ],
 "metadata": {
  "kernelspec": {
   "display_name": "Python 3",
   "language": "python",
   "name": "python3"
  },
  "language_info": {
   "codemirror_mode": {
    "name": "ipython",
    "version": 2
   },
   "file_extension": ".py",
   "mimetype": "text/x-python",
   "name": "python",
   "nbconvert_exporter": "python",
   "pygments_lexer": "ipython2",
   "version": "2.7.6"
  }
 },
 "nbformat": 4,
 "nbformat_minor": 0
}